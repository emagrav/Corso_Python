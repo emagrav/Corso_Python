{
 "cells": [
  {
   "cell_type": "markdown",
   "source": [
    "# Prepariamo prima l'ambiente\r\n",
    "Onde evitare ogni volta che si cambia il contenuto dei file di prova (lanciando gli script di esempio qui contenuti) di rendere conto di tali modifiche a Git, effettuiamo una copia degli stessi all'interno di una sottodirectory in_out ignorata (cioè menzionata in .gitignore)"
   ],
   "metadata": {}
  },
  {
   "cell_type": "code",
   "execution_count": 1,
   "source": [
    "import shutil\r\n",
    "\r\n",
    "shutil.copy(\"data/esempio_uno.txt\"\r\n",
    "            , \"in_out/esempio_uno.txt\")"
   ],
   "outputs": [
    {
     "output_type": "execute_result",
     "data": {
      "text/plain": [
       "'in_out/esempio_uno.txt'"
      ]
     },
     "metadata": {},
     "execution_count": 1
    }
   ],
   "metadata": {}
  },
  {
   "cell_type": "markdown",
   "source": [
    "# 1. Creare, Leggere e Scrivere File Testuali\r\n",
    "In questo episodio parleremo di Files, ovvero di come sia possibile leggere e scrivere da e su un file di testo salvato nel nostro Computer.\r\n",
    "Dovete sapere che esistono due modalità di scrittura in Python e queste sono write e append.\r\n",
    "\r\n",
    "Utilizzando write, ogni volta che andiamo ad aggiungere del contenuto, tutto ció che era precedentemente salvato all'interno del file andrà perso, mentre utilizzando append, che significa proprio aggiungere, il contenuto aggiunto si sommerà a quanto già presente nel file.\r\n",
    "\r\n",
    "Iniziamo partendo dalla prima modalità. Anzitutto ci serve qualcosa da scrivere, quindi:"
   ],
   "metadata": {}
  },
  {
   "cell_type": "code",
   "execution_count": 2,
   "source": [
    "contenuto = \"Oggi è una bellissima giornata!\""
   ],
   "outputs": [],
   "metadata": {}
  },
  {
   "cell_type": "markdown",
   "source": [
    "Ció che dobbiamo fare ora è specificare il file testuale su cui vogliamo scrivere, e per fare questo facciamo:"
   ],
   "metadata": {}
  },
  {
   "cell_type": "code",
   "execution_count": 3,
   "source": [
    "file_uno = open(\"in_out/esempio_uno.txt\", \"w\")"
   ],
   "outputs": [],
   "metadata": {}
  },
  {
   "cell_type": "markdown",
   "source": [
    "open() è chiaramente una funzione, e i parametri che le passiamo sono il nome del file su cui vogliamo scrivere e la modalità di scrittura, in questo caso \"w\" da write appunto.\r\n",
    "\r\n",
    "Il nome del file puó essere preceduto dal suo percorso all'interno del sistema, ad esempio file_uno = open(\"C:\\\\esempio_uno.txt\", \"w\")\r\n",
    "\r\n",
    "Nella definizione del percorso utilizziamo due slash e non uno, in quanto come ricorderete dalle lezioni precedenti questo è il carattere escape, e quindi per essere interpretato correttamente ha bisogno di essere a sua volta giustificato.\r\n",
    "\r\n",
    "Visto che noi abbiamo specificato solamente il nome, Python andrà a cercalo nella sua cartella di lavoro di default. Se il file non esiste, come in questo caso, open() lo creerà per noi.\r\n",
    "\r\n",
    "Ora che Python sa a che file ci stiamo riferendo possiamo effettuare la scrittura vera e propria, usando il nome della variabile associata ad open(), nel nostro caso file_uno:"
   ],
   "metadata": {}
  },
  {
   "cell_type": "code",
   "execution_count": 4,
   "source": [
    "file_uno.write(contenuto)\r\n",
    "file_uno.close()    # ricordate sempre di chiudere i file!"
   ],
   "outputs": [],
   "metadata": {}
  },
  {
   "cell_type": "markdown",
   "source": [
    "Andando a controllare nel nostro file esempio_uno.txt, ecco che troviamo la frase appena scritta, \"Oggi è una bellissima giornata!\""
   ],
   "metadata": {}
  },
  {
   "cell_type": "markdown",
   "source": [
    "---"
   ],
   "metadata": {}
  },
  {
   "cell_type": "markdown",
   "source": [
    "Utilizziamo ora la seconda modalità di scrittura, append, per aggiugnere del testo a quello già presente. Creiamo del nuovo materiale da aggiungere:"
   ],
   "metadata": {}
  },
  {
   "cell_type": "code",
   "execution_count": 5,
   "source": [
    "nuova_stringa = \"python è una bomba\""
   ],
   "outputs": [],
   "metadata": {}
  },
  {
   "cell_type": "markdown",
   "source": [
    "La procedura è la stessa rispetto a quella mostrata fin'ora, l'unica cosa che va a cambiare è il secondo parametro passato a open():"
   ],
   "metadata": {}
  },
  {
   "cell_type": "code",
   "execution_count": 6,
   "source": [
    "file_uno = open(\"in_out/esempio_uno.txt\", \"a\")\r\n",
    "file_uno.write(nuova_stringa)\r\n",
    "file_uno.close()"
   ],
   "outputs": [],
   "metadata": {}
  },
  {
   "cell_type": "markdown",
   "source": [
    "Andando a ricontrollare nel nostro file di testo, ecco che ora troviamo la nostra nuova aggiunta: <br>\r\n",
    "\r\n",
    "`Oggi è una bellissima giornata!python è una bomba`"
   ],
   "metadata": {}
  },
  {
   "cell_type": "markdown",
   "source": [
    "Come vedete Python non va a capo automaticamente, dovrete specificarlo voi mediante un carattere newline:"
   ],
   "metadata": {}
  },
  {
   "cell_type": "code",
   "execution_count": 7,
   "source": [
    "file_uno = open(\"in_out/esempio_uno.txt\",\"a\")\r\n",
    "file_uno.write(\"\\nNuova_riga\")\r\n",
    "file_uno.close()"
   ],
   "outputs": [],
   "metadata": {}
  },
  {
   "cell_type": "markdown",
   "source": [
    "Questo è tutto ció che vi serve sapere per iniziare a scrivere sui file!"
   ],
   "metadata": {}
  },
  {
   "cell_type": "markdown",
   "source": [
    "---"
   ],
   "metadata": {}
  },
  {
   "cell_type": "markdown",
   "source": [
    "Passiamo ora alla terza e ultima parte di questa lezione, la lettura da file; ad open() verrà passato stavolta il parametro \"r\", da read:"
   ],
   "metadata": {}
  },
  {
   "cell_type": "code",
   "execution_count": 8,
   "source": [
    "file_lettura = open(\"in_out/esempio_uno.txt\", \"r\")\r\n",
    "var_lettura = file_lettura.read()\r\n",
    "file_lettura.close()\r\n",
    "print(var_lettura)"
   ],
   "outputs": [
    {
     "output_type": "stream",
     "name": "stdout",
     "text": [
      "Oggi è una bellissima giornata!python è una bomba\n",
      "Nuova_riga\n"
     ]
    }
   ],
   "metadata": {}
  },
  {
   "cell_type": "markdown",
   "source": [
    "Volendo, invece di leggere tutto il contenuto del file come un'unica stringa, potete ottenere una lettura per righe apportando una piccola modifica a quanto abbiamo scritto in precedenza:"
   ],
   "metadata": {}
  },
  {
   "cell_type": "code",
   "execution_count": 9,
   "source": [
    "var_lettura = open(\"in_out/esempio_uno.txt\", \"r\").readlines()"
   ],
   "outputs": [],
   "metadata": {}
  },
  {
   "cell_type": "markdown",
   "source": [
    "Grazie a readlines(), ora in var_lettura è presente una lista composta dalle varie righe del file:"
   ],
   "metadata": {}
  },
  {
   "cell_type": "code",
   "execution_count": 10,
   "source": [
    "print(var_lettura)"
   ],
   "outputs": [
    {
     "output_type": "stream",
     "name": "stdout",
     "text": [
      "['Oggi è una bellissima giornata!python è una bomba\\n', 'Nuova_riga']\n"
     ]
    }
   ],
   "metadata": {}
  },
  {
   "cell_type": "markdown",
   "source": [
    "Prima di chiudere vi do delle info bonus!\n",
    "\n",
    "Iniziamo importando il modulo della Standard Library dedicato al sistema operativo, il modulo os:"
   ],
   "metadata": {}
  },
  {
   "cell_type": "code",
   "execution_count": 11,
   "source": [
    "import os"
   ],
   "outputs": [],
   "metadata": {}
  },
  {
   "cell_type": "markdown",
   "source": [
    "Tra le tante funzionalità presenti in questo modulo potete verificare la cartella su cui Python sta lavorando mediante:"
   ],
   "metadata": {}
  },
  {
   "cell_type": "code",
   "execution_count": 12,
   "source": [
    "os.getcwd() #ottiene la directory di lavoro corrente"
   ],
   "outputs": [
    {
     "output_type": "execute_result",
     "data": {
      "text/plain": [
       "'d:\\\\repos\\\\Python\\\\Corso_Python'"
      ]
     },
     "metadata": {},
     "execution_count": 12
    }
   ],
   "metadata": {}
  },
  {
   "cell_type": "markdown",
   "source": [
    "e cambiarla con:"
   ],
   "metadata": {}
  },
  {
   "cell_type": "code",
   "execution_count": 13,
   "source": [
    "#os.chdir(\"/percorso/file\") # cambia directory di lavoro\r\n",
    "os.chdir(\"C:\\\\\") # cambia directory di lavoro\r\n",
    "os.getcwd()"
   ],
   "outputs": [
    {
     "output_type": "execute_result",
     "data": {
      "text/plain": [
       "'C:\\\\'"
      ]
     },
     "metadata": {},
     "execution_count": 13
    }
   ],
   "metadata": {}
  },
  {
   "cell_type": "markdown",
   "source": [
    "Questo vi faciliterà in maniera considerevole il lavoro... specialmente se state lavorando con più di un file per volta!"
   ],
   "metadata": {}
  },
  {
   "cell_type": "markdown",
   "source": [
    "# 2. I Files: Come Copiarli, Spostarli, Rinominarli o Cancellarli\r\n",
    "Parleremo oggi di come sia possibile Copiare, Spostare, Rinominare o Cancellare qualsiasi tipo di File nei vostri programmi Python.\r\n",
    "\r\n",
    "Anzitutto utilizzeremo delle funzioni presente nel modulo `shutil`, abbreviativo di Shell Utilities:"
   ],
   "metadata": {}
  },
  {
   "cell_type": "code",
   "execution_count": 1,
   "source": [
    "import shutil"
   ],
   "outputs": [],
   "metadata": {}
  },
  {
   "cell_type": "markdown",
   "source": [
    "Anzitutto vediamo un pó come possiamo copiare i file, supponiamo di voler copiare un file chiamato \"1492.txt\" da una cartella chiamata \"lezione20\", ad una sottocartella chiamata \"storia\".\r\n",
    "\r\n",
    "Per fare questo usiamo la funzione `copy` di shutil:"
   ],
   "metadata": {}
  },
  {
   "cell_type": "code",
   "execution_count": 7,
   "source": [
    "shutil.copy(\"data/esempio_uno.txt\"\r\n",
    "            , \"in_out/esempio_uno_new.txt\")"
   ],
   "outputs": [
    {
     "output_type": "execute_result",
     "data": {
      "text/plain": [
       "'in_out/esempio_uno_new.txt'"
      ]
     },
     "metadata": {},
     "execution_count": 7
    }
   ],
   "metadata": {}
  },
  {
   "cell_type": "markdown",
   "source": [
    "Dobbiamo specificare due parametri, primo, il nome del file che vogliamo copiare con relativo percorso, e secondo la cartella di destinazione.\r\n",
    "\r\n",
    "Supponiamo ora di voler spostare invece un file chiamato \"napoleone.txt\", dalla cartella \"lezione20\" alla sottocartella \"storia\". In questo caso usiamo la funzione `move` di shutil:"
   ],
   "metadata": {}
  },
  {
   "cell_type": "code",
   "execution_count": 8,
   "source": [
    "shutil.move(\"in_out/esempio_uno_new.txt\", \"in_out/sottocartella/\")"
   ],
   "outputs": [
    {
     "output_type": "execute_result",
     "data": {
      "text/plain": [
       "'in_out/sottocartella/esempio_uno_new.txt'"
      ]
     },
     "metadata": {},
     "execution_count": 8
    }
   ],
   "metadata": {}
  },
  {
   "cell_type": "markdown",
   "source": [
    "Per poter rinominare oppure cancellare un file usiamo invece funzioni presenti nel modulo `os`:"
   ],
   "metadata": {}
  },
  {
   "cell_type": "code",
   "execution_count": 9,
   "source": [
    "import os"
   ],
   "outputs": [],
   "metadata": {}
  },
  {
   "cell_type": "markdown",
   "source": [
    "Supponiamo di avere, sempre nella cartella \"lezione20\", un file \"cancellami.txt\", possiamo fargli compiere il suo destino mediante la funzione `unlink()` di os. State attenti quando utilizzate unlink() perché si tratta di una funzione potentissima, il file verrà infatti permanentemente eliminato dal vostro hard disk:"
   ],
   "metadata": {}
  },
  {
   "cell_type": "code",
   "execution_count": 11,
   "source": [
    "os.unlink(\"in_out/sottocartella/esempio_uno_new.txt\")"
   ],
   "outputs": [],
   "metadata": {}
  },
  {
   "cell_type": "markdown",
   "source": [
    "Ed ecco che il file è sparito! Volendo invece di unlink() potete utilizzare `remove()`, che è la stessa cosa!"
   ],
   "metadata": {}
  },
  {
   "cell_type": "markdown",
   "source": [
    "Supponiamo inoltre di avere anche un file \"rinominami.txt\", e possiamo rinominarlo tramtite la funzione `rename()`:"
   ],
   "metadata": {}
  },
  {
   "cell_type": "code",
   "execution_count": 15,
   "source": [
    "shutil.copy(\"data/esempio_uno.txt\"\r\n",
    "            , \"in_out/sottocartella/esempio_uno_new.txt\")\r\n",
    "os.rename(\"in_out/sottocartella/esempio_uno_new.txt\", \"in_out/sottocartella/file_rinominato.txt\")"
   ],
   "outputs": [],
   "metadata": {}
  },
  {
   "cell_type": "markdown",
   "source": [
    "# 3. Le Cartelle in Python\r\n",
    "Benvenuti a questa nuova lezione, il tema di oggi è come usare le Cartelle nei nostri programmi Python.\r\n",
    "\r\n",
    "I moduli necessari sono `os` e `shutil`:"
   ],
   "metadata": {}
  },
  {
   "cell_type": "code",
   "execution_count": 26,
   "source": [
    "import os, shutil"
   ],
   "outputs": [],
   "metadata": {}
  },
  {
   "cell_type": "markdown",
   "source": [
    "Anzitutto è bene sapere in che cartella ci troviamo, per fare questo facciamo:"
   ],
   "metadata": {}
  },
  {
   "cell_type": "code",
   "execution_count": 33,
   "source": [
    "os.getcwd() # getcwd sta per Get Current Working Directory"
   ],
   "outputs": [
    {
     "output_type": "execute_result",
     "data": {
      "text/plain": [
       "'C:\\\\'"
      ]
     },
     "metadata": {},
     "execution_count": 33
    }
   ],
   "metadata": {}
  },
  {
   "cell_type": "markdown",
   "source": [
    "Che restituisce la cartella di lavoro in cui ci si trova attualmente: se provate questo comando su Windows, otterrete la cartella di lavoro di Default di Python.\r\n",
    "\r\n",
    "Una volta che sappiamo in che cartella ci troviamo, è utile conoscerne il contenuto, che possiamo ottenere grazie a `os.listdir()`. Questa funzione ci mostra un elenco degli elementi e delle sottocartelle presenti nella cartella in cui stiamo operando."
   ],
   "metadata": {}
  },
  {
   "cell_type": "code",
   "execution_count": 34,
   "source": [
    "os.listdir()"
   ],
   "outputs": [
    {
     "output_type": "execute_result",
     "data": {
      "text/plain": [
       "['$MfeDeepRem',\n",
       " '$Recycle.Bin',\n",
       " 'appl_bdi',\n",
       " 'Brother',\n",
       " 'DocFlow Italia Spa',\n",
       " 'Documents and Settings',\n",
       " 'DRIVERS',\n",
       " 'hiberfil.sys',\n",
       " 'Intel',\n",
       " 'IntelOptaneData',\n",
       " 'MSOCache',\n",
       " 'oracle',\n",
       " 'pagefile.sys',\n",
       " 'PerfLogs',\n",
       " 'Program Files',\n",
       " 'Program Files (x86)',\n",
       " 'ProgramData',\n",
       " 'Programmi',\n",
       " 'Quarantine',\n",
       " 'Recovery',\n",
       " 'StartPkg',\n",
       " 'swapfile.sys',\n",
       " 'System Volume Information',\n",
       " 'temp',\n",
       " 'Users',\n",
       " 'Windows']"
      ]
     },
     "metadata": {},
     "execution_count": 34
    }
   ],
   "metadata": {}
  },
  {
   "cell_type": "markdown",
   "source": [
    "Possiamo spostarci da una cartella all'altra utilizzando:"
   ],
   "metadata": {}
  },
  {
   "cell_type": "code",
   "execution_count": 18,
   "source": [
    "os.chdir(\"C:\\\\\") # chdir sta per CHange DIRectory"
   ],
   "outputs": [],
   "metadata": {}
  },
  {
   "cell_type": "markdown",
   "source": [
    "Possiamo creare una o più cartelle con `os.makedirs()`:"
   ],
   "metadata": {}
  },
  {
   "cell_type": "code",
   "execution_count": 23,
   "source": [
    "os.makedirs(\"C:\\\\nuova__cartella\")\r\n",
    "\r\n",
    "os.makedirs(\"C:\\\\lezione21\\\\informatica\")\r\n",
    "os.makedirs(\"C:\\\\lezione21\\\\sistemi\")\r\n",
    "os.makedirs(\"C:\\\\lezione21\\\\security\")"
   ],
   "outputs": [],
   "metadata": {}
  },
  {
   "cell_type": "markdown",
   "source": [
    "Anche rinominare è facilissimo grazie a `os.rename()`:"
   ],
   "metadata": {}
  },
  {
   "cell_type": "code",
   "execution_count": 24,
   "source": [
    "os.rename(\"nuova__cartella\",\"lezione21_bis\")"
   ],
   "outputs": [],
   "metadata": {}
  },
  {
   "cell_type": "markdown",
   "source": [
    "Per spostare una cartella con relativi file, utilizziamo la funzione `shutil.move()`:"
   ],
   "metadata": {}
  },
  {
   "cell_type": "code",
   "execution_count": 27,
   "source": [
    "shutil.move(\"C:\\\\lezione21\\\\security\", \"C:\\\\lezione21\\\\informatica\\\\\")"
   ],
   "outputs": [
    {
     "output_type": "execute_result",
     "data": {
      "text/plain": [
       "'C:\\\\lezione21\\\\informatica\\\\security'"
      ]
     },
     "metadata": {},
     "execution_count": 27
    }
   ],
   "metadata": {}
  },
  {
   "cell_type": "markdown",
   "source": [
    "Mentre volendo invece copiare una cartella con relative sottocartelle facciamo:"
   ],
   "metadata": {}
  },
  {
   "cell_type": "code",
   "execution_count": 30,
   "source": [
    "shutil.copytree(\"C:\\\\lezione21_bis\",\"C:\\\\lezione21\\\\lezione21_biscopia\")"
   ],
   "outputs": [
    {
     "output_type": "execute_result",
     "data": {
      "text/plain": [
       "'C:\\\\lezione21\\\\lezione21_biscopia'"
      ]
     },
     "metadata": {},
     "execution_count": 30
    }
   ],
   "metadata": {}
  },
  {
   "cell_type": "markdown",
   "source": [
    "Alla funzione passiamo stavolta il nome di una nuova cartella in cui vogliamo effettuare la copia, e `copytree()` creerà eventuali cartelle intermedie.\r\n",
    "\r\n",
    "Infine la funzione più potente di tutte!\r\n",
    "\r\n",
    "Volendo eliminare un intero albero di cartelle e relativi file usiamo `shutil.rmtree()`:"
   ],
   "metadata": {}
  },
  {
   "cell_type": "code",
   "execution_count": 32,
   "source": [
    "shutil.rmtree(\"lezione21\\\\lezione21_biscopia\")"
   ],
   "outputs": [],
   "metadata": {}
  },
  {
   "cell_type": "markdown",
   "source": [
    "# 4. Come Navigare il File System\r\n",
    "Ciao a tutti e bentornati, parlaremo oggi di una delle modalità più pratiche per navigare il filesystem del nostro computer con Python, grazie al modulo os e alla funzione `os.walk()`.\r\n",
    "\r\n",
    "Fin'ora abbiamo visto che volendo controllare il contenuto di una cartella, possiamo utilizzare la funzione `listdir()`, che peró non fa distinzione tra file e sottocartelle, presenti nel percorso passato.\r\n",
    "\r\n",
    "E in quelle situazioni in cui dobbiamo scansionare una parte sostanziosa del sistema, magari alla ricerca di un determinato tipo di file con cui vogliamo operare, potremo combinare listdir() e altre funzioni, ma il procedimento diventerebbe abbastanza lungo.\r\n",
    "\r\n",
    "Una delle modalità più veloci e pratiche per fare ció è utilizzare invece la funzione walk() del modulo os, capirete bene come funziona a breve.\r\n",
    "\r\n",
    "Questa analizza il percorso passato in maniera ricorsiva, cioè dove ogni analisi viene suggerita da quella precedente, cercando sottocartelle e file.\r\n",
    "\r\n",
    "La funzione os.walk() viene usata in combinazione con i cicli for: ad ogni ciclo, abbiamo 3 elementi: la cartella in cui ci troviamo al momento, una lista delle sottocartelle presenti, e una lista dei file, al ciclo successivo la funzione entrerà in una delle sottocartelle e ripeterà il processo, questo prosegue fino a che non si arriva alla fine dell'albero.\r\n",
    "\r\n",
    "Immaginiamo di voler scansionare la cartella in cui ci troviamo, e vogliamo avere un elenco esaustivo di file e sottocartelle e di tutti i file e le altre cartelle presenti al loro interno:"
   ],
   "metadata": {}
  },
  {
   "cell_type": "code",
   "execution_count": 1,
   "source": [
    "import os\r\n",
    "os.chdir(\"C:\\\\Intel\")\r\n"
   ],
   "outputs": [],
   "metadata": {}
  },
  {
   "cell_type": "code",
   "execution_count": 2,
   "source": [
    "for cartella, sottocartelle, files in os.walk(os.getcwd()):\r\n",
    "    print(f\"Ci troviamo nella cartella: '{cartella}'\")\r\n",
    "    print(f\"Le sottocartelle presenti sono: '{sottocartelle}'\")\r\n",
    "    print(f\"I files presenti sono: {files}\")\r\n",
    "    print()"
   ],
   "outputs": [
    {
     "output_type": "stream",
     "name": "stdout",
     "text": [
      "Ci troviamo nella cartella: 'C:\\Intel'\n",
      "Le sottocartelle presenti sono: '['GfxCPLBatchFiles', 'Logs', 'Thunderbolt']'\n",
      "I files presenti sono: []\n",
      "\n",
      "Ci troviamo nella cartella: 'C:\\Intel\\GfxCPLBatchFiles'\n",
      "Le sottocartelle presenti sono: '[]'\n",
      "I files presenti sono: ['{EC94D02F-D200-4428-9531-05AF7F9799CB}.bat']\n",
      "\n",
      "Ci troviamo nella cartella: 'C:\\Intel\\Logs'\n",
      "Le sottocartelle presenti sono: '[]'\n",
      "I files presenti sono: ['IntelCPHS.log', 'IntelGFXCoin.log', 'IntelTBTCoin.log']\n",
      "\n",
      "Ci troviamo nella cartella: 'C:\\Intel\\Thunderbolt'\n",
      "Le sottocartelle presenti sono: '[]'\n",
      "I files presenti sono: ['setup.msi']\n",
      "\n"
     ]
    }
   ],
   "metadata": {}
  }
 ],
 "metadata": {
  "interpreter": {
   "hash": "35c0b3597cfb832173173fbfafd89005b7bc5be168df58754a561fda88188955"
  },
  "kernelspec": {
   "name": "python3",
   "display_name": "Python 3.7.11 64-bit ('Python_Dev': conda)"
  },
  "language_info": {
   "codemirror_mode": {
    "name": "ipython",
    "version": 3
   },
   "file_extension": ".py",
   "mimetype": "text/x-python",
   "name": "python",
   "nbconvert_exporter": "python",
   "pygments_lexer": "ipython3",
   "version": "3.7.11"
  },
  "orig_nbformat": 4
 },
 "nbformat": 4,
 "nbformat_minor": 2
}