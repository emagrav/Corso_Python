{
 "cells": [
  {
   "cell_type": "markdown",
   "source": [
    "# Prepariamo prima l'ambiente\r\n",
    "Onde evitare ogni volta che si cambia il contenuto dei file di prova (lanciando gli script di esempio qui contenuti) di rendere conto di tali modifiche a Git, effettuiamo una copia degli stessi all'interno di una sottodirectory in_out ignorata (cioè menzionata in .gitignore)"
   ],
   "metadata": {}
  },
  {
   "cell_type": "code",
   "execution_count": 1,
   "source": [
    "import shutil\r\n",
    "\r\n",
    "shutil.copy(\"data/esempio_uno.txt\"\r\n",
    "            , \"in_out/esempio_uno.txt\")"
   ],
   "outputs": [
    {
     "output_type": "execute_result",
     "data": {
      "text/plain": [
       "'in_out/esempio_uno.txt'"
      ]
     },
     "metadata": {},
     "execution_count": 1
    }
   ],
   "metadata": {}
  },
  {
   "cell_type": "markdown",
   "source": [
    "In questo episodio parleremo di Files, ovvero di come sia possibile leggere e scrivere da e su un file di testo salvato nel nostro Computer.\r\n",
    "Dovete sapere che esistono due modalità di scrittura in Python e queste sono write e append.\r\n",
    "\r\n",
    "Utilizzando write, ogni volta che andiamo ad aggiungere del contenuto, tutto ció che era precedentemente salvato all'interno del file andrà perso, mentre utilizzando append, che significa proprio aggiungere, il contenuto aggiunto si sommerà a quanto già presente nel file.\r\n",
    "\r\n",
    "Iniziamo partendo dalla prima modalità. Anzitutto ci serve qualcosa da scrivere, quindi:"
   ],
   "metadata": {}
  },
  {
   "cell_type": "code",
   "execution_count": 26,
   "source": [
    "contenuto = \"Oggi è una bellissima giornata!\""
   ],
   "outputs": [],
   "metadata": {}
  },
  {
   "cell_type": "markdown",
   "source": [
    "Ció che dobbiamo fare ora è specificare il file testuale su cui vogliamo scrivere, e per fare questo facciamo:"
   ],
   "metadata": {}
  },
  {
   "cell_type": "code",
   "execution_count": 2,
   "source": [
    "file_uno = open(\"in_out/esempio_uno.txt\", \"w\")"
   ],
   "outputs": [],
   "metadata": {}
  },
  {
   "cell_type": "markdown",
   "source": [
    "open() è chiaramente una funzione, e i parametri che le passiamo sono il nome del file su cui vogliamo scrivere e la modalità di scrittura, in questo caso \"w\" da write appunto.\r\n",
    "\r\n",
    "Il nome del file puó essere preceduto dal suo percorso all'interno del sistema, ad esempio file_uno = open(\"C:\\\\esempio_uno.txt\", \"w\")\r\n",
    "\r\n",
    "Nella definizione del percorso utilizziamo due slash e non uno, in quanto come ricorderete dalle lezioni precedenti questo è il carattere escape, e quindi per essere interpretato correttamente ha bisogno di essere a sua volta giustificato.\r\n",
    "\r\n",
    "Visto che noi abbiamo specificato solamente il nome, Python andrà a cercalo nella sua cartella di lavoro di default. Se il file non esiste, come in questo caso, open() lo creerà per noi.\r\n",
    "\r\n",
    "Ora che Python sa a che file ci stiamo riferendo possiamo effettuare la scrittura vera e propria, usando il nome della variabile associata ad open(), nel nostro caso file_uno:"
   ],
   "metadata": {}
  },
  {
   "cell_type": "code",
   "execution_count": 29,
   "source": [
    "file_uno.write(contenuto)\r\n",
    "file_uno.close()    # ricordate sempre di chiudere i file!"
   ],
   "outputs": [],
   "metadata": {}
  },
  {
   "cell_type": "markdown",
   "source": [
    "Andando a controllare nel nostro file esempio_uno.txt, ecco che troviamo la frase appena scritta, \"Oggi è una bellissima giornata!\""
   ],
   "metadata": {}
  },
  {
   "cell_type": "markdown",
   "source": [
    "---"
   ],
   "metadata": {}
  },
  {
   "cell_type": "markdown",
   "source": [
    "Utilizziamo ora la seconda modalità di scrittura, append, per aggiugnere del testo a quello già presente. Creiamo del nuovo materiale da aggiungere:"
   ],
   "metadata": {}
  },
  {
   "cell_type": "code",
   "execution_count": 4,
   "source": [
    "nuova_stringa = \"python è una bomba\""
   ],
   "outputs": [],
   "metadata": {}
  },
  {
   "cell_type": "markdown",
   "source": [
    "La procedura è la stessa rispetto a quella mostrata fin'ora, l'unica cosa che va a cambiare è il secondo parametro passato a open():"
   ],
   "metadata": {}
  },
  {
   "cell_type": "code",
   "execution_count": 5,
   "source": [
    "file_uno = open(\"in_out/esempio_uno.txt\", \"a\")\r\n",
    "file_uno.write(nuova_stringa)\r\n",
    "file_uno.close()"
   ],
   "outputs": [],
   "metadata": {}
  },
  {
   "cell_type": "markdown",
   "source": [
    "Andando a ricontrollare nel nostro file di testo, ecco che ora troviamo la nostra nuova aggiunta:"
   ],
   "metadata": {}
  },
  {
   "cell_type": "code",
   "execution_count": null,
   "source": [
    "\"Oggi è una bellissima giornata!python è una bomba\""
   ],
   "outputs": [],
   "metadata": {}
  },
  {
   "cell_type": "markdown",
   "source": [
    "Come vedete Python non va a capo automaticamente, dovrete specificarlo voi mediante un carattere newline:"
   ],
   "metadata": {}
  },
  {
   "cell_type": "code",
   "execution_count": 6,
   "source": [
    "file_uno = open(\"in_out/esempio_uno.txt\",\"a\")\r\n",
    "file_uno.write(\"\\nNuova_riga\")\r\n",
    "file_uno.close()"
   ],
   "outputs": [],
   "metadata": {}
  },
  {
   "cell_type": "markdown",
   "source": [
    "Questo è tutto ció che vi serve sapere per iniziare a scrivere sui file!"
   ],
   "metadata": {}
  },
  {
   "cell_type": "markdown",
   "source": [
    "---"
   ],
   "metadata": {}
  },
  {
   "cell_type": "markdown",
   "source": [
    "Passiamo ora alla terza e ultima parte di questa lezione, la lettura da file; ad open() verrà passato stavolta il parametro \"r\", da read:"
   ],
   "metadata": {}
  },
  {
   "cell_type": "code",
   "execution_count": 9,
   "source": [
    "file_lettura = open(\"in_out/esempio_uno.txt\", \"r\")\r\n",
    "var_lettura = file_lettura.read()\r\n",
    "file_lettura.close()\r\n",
    "print(var_lettura)"
   ],
   "outputs": [
    {
     "output_type": "stream",
     "name": "stdout",
     "text": [
      "python è una bomba\n",
      "Nuova_riga\n"
     ]
    }
   ],
   "metadata": {}
  },
  {
   "cell_type": "markdown",
   "source": [
    "Volendo, invece di leggere tutto il contenuto del file come un'unica stringa, potete ottenere una lettura per righe apportando una piccola modifica a quanto abbiamo scritto in precedenza:"
   ],
   "metadata": {}
  },
  {
   "cell_type": "code",
   "execution_count": 34,
   "source": [
    "var_lettura = open(\"in_out/esempio_uno.txt\", \"r\").readlines()"
   ],
   "outputs": [],
   "metadata": {}
  },
  {
   "cell_type": "markdown",
   "source": [
    "Grazie a readlines(), ora in var_lettura è presente una lista composta dalle varie righe del file:"
   ],
   "metadata": {}
  },
  {
   "cell_type": "code",
   "execution_count": 35,
   "source": [
    "print(var_lettura)"
   ],
   "outputs": [
    {
     "output_type": "stream",
     "name": "stdout",
     "text": [
      "['Oggi è una bellissima giornata!python è una bomba\\n', 'Nuova_riga']\n"
     ]
    }
   ],
   "metadata": {}
  },
  {
   "cell_type": "markdown",
   "source": [
    "Prima di chiudere vi do delle info bonus!\n",
    "\n",
    "Iniziamo importando il modulo della Standard Library dedicato al sistema operativo, il modulo os:"
   ],
   "metadata": {}
  },
  {
   "cell_type": "code",
   "execution_count": 36,
   "source": [
    "import os"
   ],
   "outputs": [],
   "metadata": {}
  },
  {
   "cell_type": "markdown",
   "source": [
    "Tra le tante funzionalità presenti in questo modulo potete verificare la cartella su cui Python sta lavorando mediante:"
   ],
   "metadata": {}
  },
  {
   "cell_type": "code",
   "execution_count": 37,
   "source": [
    "os.getcwd() #ottiene la directory di lavoro corrente"
   ],
   "outputs": [
    {
     "output_type": "execute_result",
     "data": {
      "text/plain": [
       "'/home/grim/Documenti/Repo/Python/ProvaReplitPython/_Tutorial Python 3/File System'"
      ]
     },
     "metadata": {},
     "execution_count": 37
    }
   ],
   "metadata": {}
  },
  {
   "cell_type": "markdown",
   "source": [
    "e cambiarla con:"
   ],
   "metadata": {}
  },
  {
   "cell_type": "code",
   "execution_count": null,
   "source": [
    "os.chdir(\"/percorso/file\") # cambia directory di lavoro"
   ],
   "outputs": [],
   "metadata": {}
  },
  {
   "cell_type": "markdown",
   "source": [
    "Questo vi faciliterà in maniera considerevole il lavoro... specialmente se state lavorando con più di un file per volta!"
   ],
   "metadata": {}
  }
 ],
 "metadata": {
  "interpreter": {
   "hash": "35c0b3597cfb832173173fbfafd89005b7bc5be168df58754a561fda88188955"
  },
  "kernelspec": {
   "name": "python3",
   "display_name": "Python 3.7.11 64-bit ('Python_Dev': conda)"
  },
  "language_info": {
   "codemirror_mode": {
    "name": "ipython",
    "version": 3
   },
   "file_extension": ".py",
   "mimetype": "text/x-python",
   "name": "python",
   "nbconvert_exporter": "python",
   "pygments_lexer": "ipython3",
   "version": "3.7.11"
  },
  "orig_nbformat": 4
 },
 "nbformat": 4,
 "nbformat_minor": 2
}